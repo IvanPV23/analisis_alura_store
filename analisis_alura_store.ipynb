{
 "cells": [
  {
   "cell_type": "markdown",
   "id": "d72c25f8",
   "metadata": {},
   "source": [
    "## Proyecto: Análisis de ventas - Alura Store\n",
    "### Autor: Iván\n",
    "### Descripción: Este notebook analiza los datos de ventas de las tiendas de Alura Store."
   ]
  },
  {
   "cell_type": "code",
   "execution_count": 1,
   "id": "55619015",
   "metadata": {},
   "outputs": [
    {
     "name": "stdout",
     "output_type": "stream",
     "text": [
      "Inicio del proyecto: Alura Store\n"
     ]
    }
   ],
   "source": [
    "print(\"Inicio del proyecto: Alura Store\")"
   ]
  },
  {
   "cell_type": "code",
   "execution_count": 2,
   "id": "7d68f6fc",
   "metadata": {},
   "outputs": [],
   "source": [
    "import pandas as pd"
   ]
  },
  {
   "cell_type": "code",
   "execution_count": 3,
   "id": "7247363a",
   "metadata": {},
   "outputs": [],
   "source": [
    "### URLs desde GitHub\n",
    "url_t1 = \"https://raw.githubusercontent.com/alura-es-cursos/challenge1-data-science-latam/main/base-de-datos-challenge1-latam/tienda_1%20.csv\"\n",
    "url_t2 = \"https://raw.githubusercontent.com/alura-es-cursos/challenge1-data-science-latam/main/base-de-datos-challenge1-latam/tienda_2.csv\"\n",
    "url_t3 = \"https://raw.githubusercontent.com/alura-es-cursos/challenge1-data-science-latam/main/base-de-datos-challenge1-latam/tienda_3.csv\"\n",
    "url_t4 = \"https://raw.githubusercontent.com/alura-es-cursos/challenge1-data-science-latam/main/base-de-datos-challenge1-latam/tienda_4.csv\" "
   ]
  },
  {
   "cell_type": "code",
   "execution_count": 4,
   "id": "e6b8700c",
   "metadata": {},
   "outputs": [],
   "source": [
    "# Carga de cada tienda\n",
    "tienda1 = pd.read_csv(url_t1)\n",
    "tienda2 = pd.read_csv(url_t2)\n",
    "tienda3 = pd.read_csv(url_t3)\n",
    "tienda4 = pd.read_csv(url_t4)"
   ]
  },
  {
   "cell_type": "markdown",
   "id": "a23d34cc",
   "metadata": {},
   "source": [
    "Comprobamos la carga de los datos"
   ]
  },
  {
   "cell_type": "code",
   "execution_count": null,
   "id": "3172518b",
   "metadata": {},
   "outputs": [],
   "source": [
    "print(tienda1.head())\n",
    "print(tienda2.head())"
   ]
  },
  {
   "cell_type": "markdown",
   "id": "866d859e",
   "metadata": {},
   "source": [
    "Unimos todas las tiendas en una lista"
   ]
  },
  {
   "cell_type": "code",
   "execution_count": 7,
   "id": "8365894e",
   "metadata": {},
   "outputs": [],
   "source": [
    "tiendas = [tienda1, tienda2, tienda3, tienda4]"
   ]
  },
  {
   "cell_type": "markdown",
   "id": "2d64bfad",
   "metadata": {},
   "source": [
    "Exploración con bucle for"
   ]
  },
  {
   "cell_type": "code",
   "execution_count": null,
   "id": "a0954a0e",
   "metadata": {},
   "outputs": [],
   "source": [
    "for i, t in enumerate(tiendas, start=1):\n",
    "    print(f\"Tienda {i}: {len(t)} registros\")"
   ]
  },
  {
   "cell_type": "markdown",
   "id": "5ddebae0",
   "metadata": {},
   "source": [
    "Verificamos si alguna tienda tiene valores nulos"
   ]
  },
  {
   "cell_type": "code",
   "execution_count": 8,
   "id": "96a495a0",
   "metadata": {},
   "outputs": [
    {
     "name": "stdout",
     "output_type": "stream",
     "text": [
      "Tienda 1 no tiene valores nulos.\n",
      "Tienda 2 no tiene valores nulos.\n",
      "Tienda 3 no tiene valores nulos.\n",
      "Tienda 4 no tiene valores nulos.\n"
     ]
    }
   ],
   "source": [
    "for i, t in enumerate(tiendas, start=1):\n",
    "    if t.isnull().values.any():\n",
    "        print(f\"Tienda {i} contiene valores nulos.\")\n",
    "    else:\n",
    "        print(f\"Tienda {i} no tiene valores nulos.\")"
   ]
  }
 ],
 "metadata": {
  "kernelspec": {
   "display_name": "Python 3",
   "language": "python",
   "name": "python3"
  },
  "language_info": {
   "codemirror_mode": {
    "name": "ipython",
    "version": 3
   },
   "file_extension": ".py",
   "mimetype": "text/x-python",
   "name": "python",
   "nbconvert_exporter": "python",
   "pygments_lexer": "ipython3",
   "version": "3.10.9"
  }
 },
 "nbformat": 4,
 "nbformat_minor": 5
}
