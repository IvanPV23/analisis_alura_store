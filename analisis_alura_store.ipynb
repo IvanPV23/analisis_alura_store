{
 "cells": [
  {
   "cell_type": "markdown",
   "id": "d72c25f8",
   "metadata": {},
   "source": [
    "## Proyecto: Análisis de ventas - Alura Store\n",
    "### Autor: Iván\n",
    "### Descripción: Este notebook analiza los datos de ventas de las tiendas de Alura Store."
   ]
  },
  {
   "cell_type": "code",
   "execution_count": 1,
   "id": "55619015",
   "metadata": {},
   "outputs": [
    {
     "name": "stdout",
     "output_type": "stream",
     "text": [
      "Inicio del proyecto: Alura Store\n"
     ]
    }
   ],
   "source": [
    "print(\"Inicio del proyecto: Alura Store\")"
   ]
  },
  {
   "cell_type": "code",
   "execution_count": 2,
   "id": "7d68f6fc",
   "metadata": {},
   "outputs": [],
   "source": [
    "import pandas as pd"
   ]
  },
  {
   "cell_type": "code",
   "execution_count": 3,
   "id": "7247363a",
   "metadata": {},
   "outputs": [],
   "source": [
    "### URLs desde GitHub\n",
    "url_t1 = \"https://raw.githubusercontent.com/alura-es-cursos/challenge1-data-science-latam/main/base-de-datos-challenge1-latam/tienda_1%20.csv\"\n",
    "url_t2 = \"https://raw.githubusercontent.com/alura-es-cursos/challenge1-data-science-latam/main/base-de-datos-challenge1-latam/tienda_2.csv\"\n",
    "url_t3 = \"https://raw.githubusercontent.com/alura-es-cursos/challenge1-data-science-latam/main/base-de-datos-challenge1-latam/tienda_3.csv\"\n",
    "url_t4 = \"https://raw.githubusercontent.com/alura-es-cursos/challenge1-data-science-latam/main/base-de-datos-challenge1-latam/tienda_4.csv\" "
   ]
  },
  {
   "cell_type": "code",
   "execution_count": 4,
   "id": "e6b8700c",
   "metadata": {},
   "outputs": [],
   "source": [
    "# Carga de cada tienda\n",
    "tienda1 = pd.read_csv(url_t1)\n",
    "tienda2 = pd.read_csv(url_t2)\n",
    "tienda3 = pd.read_csv(url_t3)\n",
    "tienda4 = pd.read_csv(url_t4)"
   ]
  },
  {
   "cell_type": "markdown",
   "id": "a23d34cc",
   "metadata": {},
   "source": [
    "Comprobamos la carga de los datos"
   ]
  },
  {
   "cell_type": "code",
   "execution_count": 5,
   "id": "3172518b",
   "metadata": {},
   "outputs": [
    {
     "name": "stdout",
     "output_type": "stream",
     "text": [
      "            Producto Categoría del Producto    Precio  Costo de envío  \\\n",
      "0  Asistente virtual           Electrónicos  164300.0          6900.0   \n",
      "1    Mesa de comedor                Muebles  192300.0          8400.0   \n",
      "2      Juego de mesa               Juguetes  209600.0         15900.0   \n",
      "3         Microondas      Electrodomésticos  757500.0         41000.0   \n",
      "4   Silla de oficina                Muebles  335200.0         20200.0   \n",
      "\n",
      "  Fecha de Compra         Vendedor Lugar de Compra  Calificación  \\\n",
      "0      16/01/2021      Pedro Gomez          Bogotá             4   \n",
      "1      18/05/2022  Beatriz Morales        Medellín             1   \n",
      "2      15/03/2021   Juan Fernandez       Cartagena             1   \n",
      "3      03/05/2022   Juan Fernandez            Cali             4   \n",
      "4      07/11/2020    Maria Alfonso        Medellín             5   \n",
      "\n",
      "       Método de pago  Cantidad de cuotas       lat       lon  \n",
      "0  Tarjeta de crédito                   8   4.60971 -74.08175  \n",
      "1  Tarjeta de crédito                   4   6.25184 -75.56359  \n",
      "2  Tarjeta de crédito                   1  10.39972 -75.51444  \n",
      "3               Nequi                   1   3.43722 -76.52250  \n",
      "4               Nequi                   1   6.25184 -75.56359  \n",
      "           Producto  Categoría del Producto    Precio  Costo de envío  \\\n",
      "0  Silla de oficina                 Muebles  283600.0         15300.0   \n",
      "1         Pandereta  Instrumentos musicales   76800.0          2300.0   \n",
      "2         Cama king                 Muebles  443300.0         23800.0   \n",
      "3         Cama king                 Muebles  906200.0         46400.0   \n",
      "4  Silla de oficina                 Muebles  397800.0         19400.0   \n",
      "\n",
      "  Fecha de Compra         Vendedor Lugar de Compra  Calificación  \\\n",
      "0      04/08/2021  Izabela de León        Medellín             1   \n",
      "1      26/11/2020   Blanca Ramirez        Medellín             3   \n",
      "2      22/10/2021  Izabela de León         Pereira             5   \n",
      "3      04/05/2022    Maria Alfonso            Cali             5   \n",
      "4      26/02/2022    Lucas Olivera          Bogotá             4   \n",
      "\n",
      "       Método de pago  Cantidad de cuotas      lat       lon  \n",
      "0               Nequi                   1  6.25184 -75.56359  \n",
      "1  Tarjeta de crédito                   4  6.25184 -75.56359  \n",
      "2  Tarjeta de crédito                  10  4.81333 -75.69611  \n",
      "3  Tarjeta de crédito                  10  3.43722 -76.52250  \n",
      "4  Tarjeta de crédito                   3  4.60971 -74.08175  \n"
     ]
    }
   ],
   "source": [
    "print(tienda1.head())\n",
    "print(tienda2.head())"
   ]
  }
 ],
 "metadata": {
  "kernelspec": {
   "display_name": "Python 3",
   "language": "python",
   "name": "python3"
  },
  "language_info": {
   "codemirror_mode": {
    "name": "ipython",
    "version": 3
   },
   "file_extension": ".py",
   "mimetype": "text/x-python",
   "name": "python",
   "nbconvert_exporter": "python",
   "pygments_lexer": "ipython3",
   "version": "3.10.9"
  }
 },
 "nbformat": 4,
 "nbformat_minor": 5
}
